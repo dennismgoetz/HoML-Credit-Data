{
 "cells": [
  {
   "attachments": {},
   "cell_type": "markdown",
   "metadata": {},
   "source": [
    "# Hands-On Machine Learning Project\n",
    "## Topic 20: Credit Data\n",
    "### Florian Korn, Vincent Bläske, Dennis Götz"
   ]
  },
  {
   "attachments": {},
   "cell_type": "markdown",
   "metadata": {},
   "source": [
    "## IV. Prepare the Data\n",
    "1. Clean the data:<br>\n",
    "◦ Fix or remove outliers (optional).<br>\n",
    "◦ Fill in missing values (e.g., with zero, mean, median…) or drop their rows (or columns).\n",
    "2. Perform feature selection (optional): Drop the attributes that provide no useful information for the task.\n",
    "3. Perform feature engineering, where appropriate. For instance:<br>\n",
    "◦ Discretize continuous features.<br>\n",
    "◦ Decompose features (e.g., categorical, date/time, etc.).<br>\n",
    "◦ Add promising transformations of features (e.g., log(x), sqrt(x), x^2, etc.).<br>\n",
    "◦ Aggregate features into promising new features.\n",
    "4. Perform feature scaling: Standardize or normalize features."
   ]
  },
  {
   "cell_type": "code",
   "execution_count": 55,
   "metadata": {},
   "outputs": [],
   "source": [
    "# Import libraries\n",
    "import pandas as pd\n",
    "import numpy as np\n",
    "from sklearn.preprocessing import OrdinalEncoder\n",
    "from sklearn.model_selection import train_test_split\n",
    "from sklearn import preprocessing\n",
    "\n",
    "# Attributes\n",
    "attributes = ['Status of existing checking account', 'Duration in month', 'Credit history', 'Purpose', 'Credit amount', \n",
    "           'Savings account/bonds', 'Present employment since', 'Installment rate in percentage of disposable income', \n",
    "           'Personal status and sex', 'Other debtors / guarantors', 'Present residence since', 'Property',\n",
    "           'Age in years', 'Other installment plans', 'Housing', 'Number of existing credits at this bank', 'Job',\n",
    "           'Number of people being liable to provide maintenance for', 'Telephone', 'foreign worker', 'Credit rating']\n",
    "\n",
    "# Load original dataset DATA-Format\n",
    "data = pd.read_csv('german.data', sep=' ', header=None)\n",
    "data.columns = attributes\n",
    "\n",
    "# Load numerical dataset CSV-Format\n",
    "data_num = pd.read_csv('german.data-numeric.csv', sep=';', header=None)\n",
    "\n",
    "# Qualitative attributes\n",
    "cat_attribs = ['Status of existing checking account', 'Credit history', 'Purpose', 'Savings account/bonds', \n",
    "                'Present employment since', 'Personal status and sex', 'Other debtors / guarantors', 'Property',\n",
    "                'Other installment plans', 'Housing', 'Job', 'Telephone', 'foreign worker', 'Credit rating']\n",
    "\n",
    "# Numerical attributes\n",
    "num_attribs = list(set(attributes) - set(cat_attribs))\n",
    "\n",
    "# Copy the data to a new DataFrame\n",
    "data_values = data.copy()\n",
    "\n",
    "# Create dictionary with real values to make the DataFrame readable\n",
    "cat_dict = {# Attribute 1: (qualitative) Status of existing checking account \n",
    "                    'A11' : '... < 0 DM',\n",
    "                    'A12' : '0 <= ... < 200 DM',\n",
    "                    'A13' : '... >= 200 DM / salary assignments for at least 1 year',\n",
    "                    'A14' : 'no checking account',\n",
    "\n",
    "                    # Attribute 3: (qualitative) Credit history \n",
    "                    'A30' : 'no credits taken/ all credits paid back duly',\n",
    "                    'A31' : 'all credits at this bank paid back duly',\n",
    "                    'A32' : 'existing credits paid back duly till now',\n",
    "                    'A33' : 'delay in paying off in the past',\n",
    "                    'A34' : 'critical account/ other credits existing (not at this bank)',\n",
    "                    \n",
    "                    # Attribute 4: (qualitative) Purpose \n",
    "                    'A40' : 'car (new)',\n",
    "                    'A41' : 'car (used)',\n",
    "                    'A42' : 'furniture/equipment',\n",
    "                    'A43' : 'radio/television',\n",
    "                    'A44' : 'domestic appliances',\n",
    "                    'A45' : 'repairs',\n",
    "                    'A46' : 'education',\n",
    "                    'A47' : '(vacation - does not exist?)',\n",
    "                    'A48' : 'retraining',\n",
    "                    'A49' : 'business',\n",
    "                    'A410' : 'others',\n",
    "\n",
    "                    # Attibute 6: (qualitative) Savings account/bonds \n",
    "                    'A61' : '... < 100 DM',\n",
    "                    'A62' : '100 <= ... < 500 DM',\n",
    "                    'A63' : '500 <= ... < 1000 DM',\n",
    "                    'A64' : '... >= 1000 DM',\n",
    "                    'A65' : 'unknown/ no savings account',\n",
    "\n",
    "                    # Attribute 7: (qualitative) Present employment since \n",
    "                    'A71' : 'unemployed',\n",
    "                    'A72' : '... < 1 year',\n",
    "                    'A73' : '1 <= ... < 4 years',\n",
    "                    'A74' : '4 <= ... < 7 years',\n",
    "                    'A75' : '... >= 7 years',\n",
    "\n",
    "                    # Attribute 9: (qualitative) Personal status and sex \n",
    "                    'A91' : 'male : divorced/separated',\n",
    "                    'A92' : 'female : divorced/separated/married',\n",
    "                    'A93' : 'male : single',\n",
    "                    'A94' : 'male : married/widowed',\n",
    "                    'A95' : 'female : single',\n",
    "\n",
    "                    # Attribute 10: (qualitative) Other debtors / guarantors \n",
    "                    'A101' : 'none',\n",
    "                    'A102' : 'co-applicant',\n",
    "                    'A103' : 'guarantor',\n",
    "\n",
    "                    # Attribute 12: (qualitative) Property \n",
    "                    'A121' : 'real estate',\n",
    "                    'A122' : 'if not A121 : building society savings agreement/ life insurance',\n",
    "                    'A123' : 'if not A121/A122 : car or other, not in attribute 6',\n",
    "                    'A124' : 'unknown / no property',\n",
    "\n",
    "                    # Attribute 14: (qualitative) Other installment plans \n",
    "                    'A141' : 'bank',\n",
    "                    'A142' : 'stores',\n",
    "                    'A143' : 'none',\n",
    "\n",
    "                    # Attribute 15: (qualitative) Housing \n",
    "                    'A151' : 'rent',\n",
    "                    'A152' : 'own',\n",
    "                    'A153' : 'for free',\n",
    "\n",
    "                    # Attribute 17: (qualitative) Job\n",
    "                    'A171' : 'unemployed/ unskilled - non-resident',\n",
    "                    'A172' : 'unskilled - resident',\n",
    "                    'A173' : 'skilled employee / official',\n",
    "                    'A174' : 'management/ self-employed/ highly qualified employee/ officer',\n",
    "\n",
    "                    # Attribute 19: (qualitative) Telephone\n",
    "                    'A191' : 'none',\n",
    "                    'A192' : 'yes, registered under the customers name',\n",
    "\n",
    "                    # Attribute 20: (qualitative) foreign worker \n",
    "                    'A201' : 'yes',\n",
    "                    'A202' : 'no',\n",
    "\n",
    "                    # Target value: (qualitative) Credit rating\n",
    "                    1 : 'good',\n",
    "                    2 : 'bad'\n",
    "                    }\n",
    "\n",
    "# Apply the dictionary to all categorical attributes of the new DataFrame to get the real values\n",
    "data_values[cat_attribs] = pd.DataFrame([data_values[attribute].apply(lambda key: cat_dict[key]) for attribute in cat_attribs]).T"
   ]
  },
  {
   "cell_type": "code",
   "execution_count": 56,
   "metadata": {},
   "outputs": [
    {
     "data": {
      "text/html": [
       "<div>\n",
       "<style scoped>\n",
       "    .dataframe tbody tr th:only-of-type {\n",
       "        vertical-align: middle;\n",
       "    }\n",
       "\n",
       "    .dataframe tbody tr th {\n",
       "        vertical-align: top;\n",
       "    }\n",
       "\n",
       "    .dataframe thead th {\n",
       "        text-align: right;\n",
       "    }\n",
       "</style>\n",
       "<table border=\"1\" class=\"dataframe\">\n",
       "  <thead>\n",
       "    <tr style=\"text-align: right;\">\n",
       "      <th></th>\n",
       "      <th>0</th>\n",
       "    </tr>\n",
       "  </thead>\n",
       "  <tbody>\n",
       "  </tbody>\n",
       "</table>\n",
       "</div>"
      ],
      "text/plain": [
       "Empty DataFrame\n",
       "Columns: [0]\n",
       "Index: []"
      ]
     },
     "execution_count": 56,
     "metadata": {},
     "output_type": "execute_result"
    }
   ],
   "source": [
    "# Check for null values\n",
    "is_null_check = pd.DataFrame(data_values.isnull().sum())\n",
    "is_null_check[is_null_check[0] > 0]"
   ]
  },
  {
   "cell_type": "code",
   "execution_count": 57,
   "metadata": {},
   "outputs": [
    {
     "name": "stdout",
     "output_type": "stream",
     "text": [
      "X_train.shape = (800, 20)\n",
      "X_test.shape = (200, 20)\n",
      "\n",
      "Ratio of target value good (1) in y_train: 70.00 %\n",
      "Ratio of target value good (1) in y_test: 70.00 %\n"
     ]
    }
   ],
   "source": [
    "# Create a Test Set\n",
    "train_set, test_set = train_test_split(data_values, train_size=0.8, random_state=0, stratify=data_values['Credit rating'])\n",
    "\n",
    "# Separate features and target values in train and test set\n",
    "X_train = np.array(train_set.iloc[:, :20])\n",
    "y_train = np.array(train_set.iloc[:, -1])\n",
    "X_test = np.array(test_set.iloc[:, :20])\n",
    "y_test = np.array(test_set.iloc[:, -1])\n",
    "\n",
    "print(f'{X_train.shape = }')\n",
    "print(f'{X_test.shape = }\\n')\n",
    "\n",
    "# Check if training and test set have the same target-value-ratio\n",
    "print('Ratio of target value good (1) in y_train: {:.2f} %'.format(100*np.sum(y_train == 'good')/len(y_train)))\n",
    "print('Ratio of target value good (1) in y_test: {:.2f} %'.format(100*np.sum(y_test == 'good')/len(y_test)))"
   ]
  },
  {
   "attachments": {},
   "cell_type": "markdown",
   "metadata": {},
   "source": [
    "## V. Shortlist Promising Models\n",
    "1. Train many quick-and-dirty models from different categories (e.g., linear, naive Bayes, kNN, SVM, random forest, neural net, etc.) using standard parameters.\n",
    "2. Measure and compare their performance:<br>\n",
    "◦ For each model, use N-fold cross-validation and compute the mean and standard deviation of the performance measure on the N folds.\n",
    "3. Analyze the most significant variables for each algorithm (e.g., the features with the largest coefficients in a linear regression model).\n",
    "4. Analyze the types of errors the models make: What data would a human have used to avoid these errors?\n",
    "5. Perform a quick round of feature selection and engineering.\n",
    "6. Perform one or two more quick iterations of the five previous steps.\n",
    "7. Shortlist the top three to five most promising models, preferring models that make different types of errors."
   ]
  },
  {
   "attachments": {},
   "cell_type": "markdown",
   "metadata": {},
   "source": [
    "Note: If the dataset is huge, you may want to sample smaller training sets so you can train many different models in a reasonable time <br>\n",
    "(be aware that this penalizes complex models such as large neural nets or random forests)."
   ]
  },
  {
   "attachments": {},
   "cell_type": "markdown",
   "metadata": {},
   "source": [
    "�� Don’t tweak your model after measuring the generalization error: you would just start overfitting the test\n",
    "set."
   ]
  },
  {
   "cell_type": "code",
   "execution_count": null,
   "metadata": {},
   "outputs": [],
   "source": []
  },
  {
   "attachments": {},
   "cell_type": "markdown",
   "metadata": {},
   "source": []
  }
 ],
 "metadata": {
  "kernelspec": {
   "display_name": "base",
   "language": "python",
   "name": "python3"
  },
  "language_info": {
   "codemirror_mode": {
    "name": "ipython",
    "version": 3
   },
   "file_extension": ".py",
   "mimetype": "text/x-python",
   "name": "python",
   "nbconvert_exporter": "python",
   "pygments_lexer": "ipython3",
   "version": "3.9.16"
  },
  "orig_nbformat": 4
 },
 "nbformat": 4,
 "nbformat_minor": 2
}
