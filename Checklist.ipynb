{
 "cells": [
  {
   "attachments": {},
   "cell_type": "markdown",
   "metadata": {},
   "source": [
    "# Machine Learning Project Checklist\n",
    "\n",
    "### The main steps:\n",
    "1. Get the data.\n",
    "2. Frame the problem and look at the big picture.\n",
    "3. Explore the data to gain insights.\n",
    "4. Prepare the data to better expose the underlying data patterns to machine learning algorithms.\n",
    "5. Explore many different models and shortlist the best ones.\n",
    "6. Fine-tune your models and select the best one. If needed, combine multiple models. (You can well ignore the latter point for the projects for this lecture)\n",
    "7. Present your solution."
   ]
  },
  {
   "attachments": {},
   "cell_type": "markdown",
   "metadata": {},
   "source": [
    "## I. Get the Data\n",
    "1. Get (download) the data.\n",
    "2. Convert the data to a format you can easily manipulate (without changing the data itself), e.g. a Pandas\n",
    "DataFrame.\n",
    "3. Sample a test set, put it aside, and never look at it (no data snooping!)"
   ]
  },
  {
   "attachments": {},
   "cell_type": "markdown",
   "metadata": {},
   "source": [
    "## II. Frame the Problem and Look at the Big Picture\n",
    "1. Define the objective.\n",
    "2. How should you frame this problem (supervised/unsupervised, regression/classification, etc)\n",
    "3. How should performance be measured?\n",
    "4. What would be the minimum performance needed to reach the objective?\n",
    "5. How would you solve the problem manually?"
   ]
  },
  {
   "attachments": {},
   "cell_type": "markdown",
   "metadata": {},
   "source": [
    "## III. Explore the Data\n",
    "1. Create a copy of the data for exploration (sampling it down to a manageable size if necessary).\n",
    "2. Recommended: Create a Jupyter notebook to keep a record of your data exploration.\n",
    "3. Study each attribute and its characteristics:<br>\n",
    "◦ Name<br>\n",
    "◦ Type (categorical, int/float, bounded/unbounded, text, etc.)<br>\n",
    "◦ % of missing values<br>\n",
    "◦ Noisiness and type of noise (e.g. stochastic, outliers, rounding errors, etc.)<br>\n",
    "◦ Usefulness for the task<br>\n",
    "◦ Type of distribution (Gaussian, uniform, logarithmic, etc.) [Feel free to omit this for the projectsfor this lecture]\n",
    "4. For supervised learning tasks, identify the target attribute(s).\n",
    "5. Visualize the data.\n",
    "6. Study the correlations between attributes and in particular between the \"feature attributes\" and the target attribute.\n",
    "7. Study how you would solve the problem manually.\n",
    "8. Identify promising transformations (feature engineering) you may want to apply.\n",
    "9. Document what you have learned"
   ]
  },
  {
   "attachments": {},
   "cell_type": "markdown",
   "metadata": {},
   "source": [
    "## IV. Prepare the Data\n",
    "1. Clean the data:<br>\n",
    "◦ Fix or remove outliers (optional).<br>\n",
    "◦ Fill in missing values (e.g., with zero, mean, median…) or drop their rows (or columns).\n",
    "2. Perform feature selection (optional): Drop the attributes that provide no useful information for the task.\n",
    "3. Perform feature engineering, where appropriate. For instance:<br>\n",
    "◦ Discretize continuous features.<br>\n",
    "◦ Decompose features (e.g., categorical, date/time, etc.).<br>\n",
    "◦ Add promising transformations of features (e.g., log(x), sqrt(x), x^2, etc.).<br>\n",
    "◦ Aggregate features into promising new features.\n",
    "4. Perform feature scaling: Standardize or normalize features."
   ]
  },
  {
   "attachments": {},
   "cell_type": "markdown",
   "metadata": {},
   "source": [
    "## V. Shortlist Promising Models\n",
    "1. Train many quick-and-dirty models from different categories (e.g., linear, naive Bayes, kNN, SVM, random forest, neural net, etc.) using standard parameters.\n",
    "2. Measure and compare their performance:<br>\n",
    "◦ For each model, use N-fold cross-validation and compute the mean and standard deviation of the performance measure on the N folds.\n",
    "3. Analyze the most significant variables for each algorithm (e.g., the features with the largest coefficients in a linear regression model).\n",
    "4. Analyze the types of errors the models make: What data would a human have used to avoid these errors?\n",
    "5. Perform a quick round of feature selection and engineering.\n",
    "6. Perform one or two more quick iterations of the five previous steps.\n",
    "7. Shortlist the top three to five most promising models, preferring models that make different types of errors."
   ]
  },
  {
   "attachments": {},
   "cell_type": "markdown",
   "metadata": {},
   "source": [
    "Note: If the dataset is huge, you may want to sample smaller training sets so you can train many different models in a reasonable time <br>\n",
    "(be aware that this penalizes complex models such as large neural nets or random forests)."
   ]
  },
  {
   "attachments": {},
   "cell_type": "markdown",
   "metadata": {},
   "source": [
    "## VI. Fine-Tune the System\n",
    "1. Fine-tune the hyperparameters using cross-validation:<br>\n",
    "◦ Treat your data transformation choices as hyperparameters, especially when you are not sure about them <br>(e.g., if you’re not sure whether to replace missing values with zeros or with the median value, or to just drop the rows).<br>\n",
    "◦ Unless there are very few hyperparameter values to explore, prefer random search over grid search.\n",
    "2. Try ensemble methods. Combining your best models will often produce better performance than running them individually. You can ignore this step for the projects in this lecture.\n",
    "3. Once you are confident about your final model, measure its performance on the test set to estimate the generalization error."
   ]
  },
  {
   "attachments": {},
   "cell_type": "markdown",
   "metadata": {},
   "source": [
    "�� Don’t tweak your model after measuring the generalization error: you would just start overfitting the test\n",
    "set."
   ]
  },
  {
   "attachments": {},
   "cell_type": "markdown",
   "metadata": {},
   "source": [
    "## VII. Present Your Solution\n",
    "1. Document what you have done.\n",
    "2. Create a nice presentation:<br>\n",
    "◦ Make sure you highlight the big picture first.\n",
    "3. Explain why (or why not) your solution achieves the objective.\n",
    "4. Don’t forget to present interesting points you noticed along the way:<br>\n",
    "◦ Describe what worked and what did not.\n",
    "5. Ensure your key findings are communicated through beautiful visualizations or easy-to-remember statements<br>\n",
    "(e.g., “the median income is the number-one predictor of housing prices”)."
   ]
  },
  {
   "cell_type": "code",
   "execution_count": null,
   "metadata": {},
   "outputs": [],
   "source": []
  },
  {
   "attachments": {},
   "cell_type": "markdown",
   "metadata": {},
   "source": []
  }
 ],
 "metadata": {
  "kernelspec": {
   "display_name": "base",
   "language": "python",
   "name": "python3"
  },
  "language_info": {
   "codemirror_mode": {
    "name": "ipython",
    "version": 3
   },
   "file_extension": ".py",
   "mimetype": "text/x-python",
   "name": "python",
   "nbconvert_exporter": "python",
   "pygments_lexer": "ipython3",
   "version": "3.9.7"
  },
  "orig_nbformat": 4
 },
 "nbformat": 4,
 "nbformat_minor": 2
}
